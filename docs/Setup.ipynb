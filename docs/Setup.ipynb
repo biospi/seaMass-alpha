{
 "cells": [
  {
   "cell_type": "code",
   "execution_count": null,
   "metadata": {},
   "outputs": [],
   "source": [
    "Pkg.update()\n",
    "pkgInstalled = Pkg.installed()\n",
    "\n",
    "if !haskey(pkgInstalled, \"Plots\")\n",
    "    Pkg.add(\"Plots\")\n",
    "end\n",
    "\n",
    "if !haskey(pkgInstalled, \"PlotsJS\")\n",
    "    Pkg.add(\"PlotlyJS\")\n",
    "end\n",
    "\n",
    "if !haskey(pkgInstalled, \"Interact\")\n",
    "    Pkg.add(\"Interact\")\n",
    "    #Pkg.checkout(\"Interact\")\n",
    "end\n",
    "\n",
    "if !haskey(pkgInstalled, \"SeaMass\")\n",
    "    ENV[\"PYTHON\"]=\"\"\n",
    "    Pkg.clone(\"https://github.com/biospi/SeaMass.jl\")\n",
    "end"
   ]
  },
  {
   "cell_type": "code",
   "execution_count": null,
   "metadata": {
    "collapsed": true
   },
   "outputs": [],
   "source": []
  }
 ],
 "metadata": {
  "kernelspec": {
   "display_name": "Julia 0.5.2",
   "language": "julia",
   "name": "julia-0.5"
  },
  "language_info": {
   "file_extension": ".jl",
   "mimetype": "application/julia",
   "name": "julia",
   "version": "0.5.2"
  }
 },
 "nbformat": 4,
 "nbformat_minor": 2
}
