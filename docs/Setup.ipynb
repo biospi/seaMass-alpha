{
 "cells": [
  {
   "cell_type": "code",
   "execution_count": 1,
   "metadata": {},
   "outputs": [
    {
     "name": "stderr",
     "output_type": "stream",
     "text": [
      "\u001b[1m\u001b[34mINFO: Updating METADATA...\n",
      "\u001b[0m\u001b[1m\u001b[34mINFO: Computing changes...\n",
      "\u001b[0m\u001b[1m\u001b[34mINFO: No packages to install, update or remove\n",
      "\u001b[0m\u001b[1m\u001b[34mINFO: Cloning cache of ColorTypes from https://github.com/JuliaGraphics/ColorTypes.jl.git\n",
      "\u001b[0m\u001b[1m\u001b[34mINFO: Cloning cache of Colors from https://github.com/JuliaGraphics/Colors.jl.git\n",
      "\u001b[0m\u001b[1m\u001b[34mINFO: Cloning cache of FixedPointNumbers from https://github.com/JuliaMath/FixedPointNumbers.jl.git\n",
      "\u001b[0m\u001b[1m\u001b[34mINFO: Cloning cache of FixedSizeArrays from https://github.com/SimonDanisch/FixedSizeArrays.jl.git\n",
      "\u001b[0m\u001b[1m\u001b[34mINFO: Cloning cache of Measures from https://github.com/JuliaGraphics/Measures.jl.git\n",
      "\u001b[0m\u001b[1m\u001b[34mINFO: Cloning cache of PlotThemes from https://github.com/JuliaPlots/PlotThemes.jl.git\n",
      "\u001b[0m\u001b[1m\u001b[34mINFO: Cloning cache of PlotUtils from https://github.com/JuliaPlots/PlotUtils.jl.git\n",
      "\u001b[0m\u001b[1m\u001b[34mINFO: Cloning cache of Plots from https://github.com/JuliaPlots/Plots.jl.git\n",
      "\u001b[0m\u001b[1m\u001b[34mINFO: Cloning cache of RecipesBase from https://github.com/JuliaPlots/RecipesBase.jl.git\n",
      "\u001b[0m\u001b[1m\u001b[34mINFO: Cloning cache of Reexport from https://github.com/simonster/Reexport.jl.git\n",
      "\u001b[0m\u001b[1m\u001b[34mINFO: Cloning cache of Showoff from https://github.com/JuliaGraphics/Showoff.jl.git\n",
      "\u001b[0m\u001b[1m\u001b[34mINFO: Installing ColorTypes v0.4.1\n",
      "\u001b[0m\u001b[1m\u001b[34mINFO: Installing Colors v0.7.3\n",
      "\u001b[0m\u001b[1m\u001b[34mINFO: Installing FixedPointNumbers v0.3.7\n",
      "\u001b[0m\u001b[1m\u001b[34mINFO: Installing FixedSizeArrays v0.2.5\n",
      "\u001b[0m\u001b[1m\u001b[34mINFO: Installing Measures v0.1.0\n",
      "\u001b[0m\u001b[1m\u001b[34mINFO: Installing PlotThemes v0.1.1\n",
      "\u001b[0m\u001b[1m\u001b[34mINFO: Installing PlotUtils v0.3.0\n",
      "\u001b[0m\u001b[1m\u001b[34mINFO: Installing Plots v0.10.3\n",
      "\u001b[0m\u001b[1m\u001b[34mINFO: Installing RecipesBase v0.1.0\n",
      "\u001b[0m\u001b[1m\u001b[34mINFO: Installing Reexport v0.0.3\n",
      "\u001b[0m\u001b[1m\u001b[34mINFO: Installing Showoff v0.1.1\n",
      "\u001b[0m\u001b[1m\u001b[34mINFO: Building Plots\n",
      "\u001b[0m\u001b[1m\u001b[34mINFO: Cannot find deps/plotly-latest.min.js... downloading latest version.\n",
      "\u001b[0m  % Total    % Received % Xferd  Average Speed   Time    Time     Time  Current\n",
      "                                 Dload  Upload   Total   Spent    Left  Speed\n",
      "100 2121k  100 2121k    0     0  1038k      0  0:00:02  0:00:02 --:--:-- 1038k\n",
      "\u001b[1m\u001b[34mINFO: Package database updated\n",
      "\u001b[0m\u001b[1m\u001b[34mINFO: Cloning cache of Blink from https://github.com/JunoLab/Blink.jl.git\n",
      "\u001b[0m\u001b[1m\u001b[34mINFO: Cloning cache of Codecs from https://github.com/dcjones/Codecs.jl.git\n",
      "\u001b[0m\u001b[1m\u001b[34mINFO: Cloning cache of DataArrays from https://github.com/JuliaStats/DataArrays.jl.git\n",
      "\u001b[0m\u001b[1m\u001b[34mINFO: Cloning cache of DataFrames from https://github.com/JuliaStats/DataFrames.jl.git\n",
      "\u001b[0m\u001b[1m\u001b[34mINFO: Cloning cache of DataStructures from https://github.com/JuliaCollections/DataStructures.jl.git\n",
      "\u001b[0m\u001b[1m\u001b[34mINFO: Cloning cache of DocStringExtensions from https://github.com/JuliaDocs/DocStringExtensions.jl.git\n",
      "\u001b[0m\u001b[1m\u001b[34mINFO: Cloning cache of FileIO from https://github.com/JuliaIO/FileIO.jl.git\n",
      "\u001b[0m\u001b[1m\u001b[34mINFO: Cloning cache of GZip from https://github.com/JuliaIO/GZip.jl.git\n",
      "\u001b[0m\u001b[1m\u001b[34mINFO: Cloning cache of Hiccup from https://github.com/JunoLab/Hiccup.jl.git\n",
      "\u001b[0m\u001b[1m\u001b[34mINFO: Cloning cache of HttpCommon from https://github.com/JuliaWeb/HttpCommon.jl.git\n",
      "\u001b[0m\u001b[1m\u001b[34mINFO: Cloning cache of HttpParser from https://github.com/JuliaWeb/HttpParser.jl.git\n",
      "\u001b[0m\u001b[1m\u001b[34mINFO: Cloning cache of HttpServer from https://github.com/JuliaWeb/HttpServer.jl.git\n",
      "\u001b[0m\u001b[1m\u001b[34mINFO: Cloning cache of Juno from https://github.com/JunoLab/Juno.jl.git\n",
      "\u001b[0m\u001b[1m\u001b[34mINFO: Cloning cache of LaTeXStrings from https://github.com/stevengj/LaTeXStrings.jl.git\n",
      "\u001b[0m\u001b[1m\u001b[34mINFO: Cloning cache of Lazy from https://github.com/MikeInnes/Lazy.jl.git\n",
      "\u001b[0m\u001b[1m\u001b[34mINFO: Cloning cache of MacroTools from https://github.com/MikeInnes/MacroTools.jl.git\n",
      "\u001b[0m\u001b[1m\u001b[34mINFO: Cloning cache of Media from https://github.com/JunoLab/Media.jl.git\n",
      "\u001b[0m\u001b[1m\u001b[34mINFO: Cloning cache of Mustache from https://github.com/jverzani/Mustache.jl.git\n",
      "\u001b[0m\u001b[1m\u001b[34mINFO: Cloning cache of Mux from https://github.com/JuliaWeb/Mux.jl.git\n",
      "\u001b[0m\u001b[1m\u001b[34mINFO: Cloning cache of PlotlyJS from https://github.com/sglyon/PlotlyJS.jl.git\n",
      "\u001b[0m\u001b[1m\u001b[34mINFO: Cloning cache of SortingAlgorithms from https://github.com/JuliaCollections/SortingAlgorithms.jl.git\n",
      "\u001b[0m\u001b[1m\u001b[34mINFO: Cloning cache of SpecialFunctions from https://github.com/JuliaMath/SpecialFunctions.jl.git\n",
      "\u001b[0m\u001b[1m\u001b[34mINFO: Cloning cache of StatsBase from https://github.com/JuliaStats/StatsBase.jl.git\n",
      "\u001b[0m\u001b[1m\u001b[34mINFO: Cloning cache of WebSockets from https://github.com/JuliaWeb/WebSockets.jl.git\n",
      "\u001b[0m\u001b[1m\u001b[34mINFO: Installing Blink v0.5.2\n",
      "\u001b[0m\u001b[1m\u001b[34mINFO: Installing Codecs v0.3.0\n",
      "\u001b[0m\u001b[1m\u001b[34mINFO: Installing DataArrays v0.3.12\n",
      "\u001b[0m\u001b[1m\u001b[34mINFO: Installing DataFrames v0.9.1\n",
      "\u001b[0m\u001b[1m\u001b[34mINFO: Installing DataStructures v0.5.3\n",
      "\u001b[0m\u001b[1m\u001b[34mINFO: Installing DocStringExtensions v0.3.3\n",
      "\u001b[0m\u001b[1m\u001b[34mINFO: Installing FileIO v0.3.1\n",
      "\u001b[0m\u001b[1m\u001b[34mINFO: Installing GZip v0.3.0\n",
      "\u001b[0m\u001b[1m\u001b[34mINFO: Installing Hiccup v0.1.1\n",
      "\u001b[0m\u001b[1m\u001b[34mINFO: Installing HttpCommon v0.2.7\n",
      "\u001b[0m\u001b[1m\u001b[34mINFO: Installing HttpParser v0.2.0\n",
      "\u001b[0m\u001b[1m\u001b[34mINFO: Installing HttpServer v0.2.0\n",
      "\u001b[0m\u001b[1m\u001b[34mINFO: Installing Juno v0.2.7\n",
      "\u001b[0m\u001b[1m\u001b[34mINFO: Installing LaTeXStrings v0.2.1\n",
      "\u001b[0m\u001b[1m\u001b[34mINFO: Installing Lazy v0.11.6\n",
      "\u001b[0m\u001b[1m\u001b[34mINFO: Installing MacroTools v0.3.6\n",
      "\u001b[0m\u001b[1m\u001b[34mINFO: Installing Media v0.2.7\n",
      "\u001b[0m\u001b[1m\u001b[34mINFO: Installing Mustache v0.1.4\n",
      "\u001b[0m\u001b[1m\u001b[34mINFO: Installing Mux v0.2.3\n",
      "\u001b[0m\u001b[1m\u001b[34mINFO: Installing PlotlyJS v0.6.2\n",
      "\u001b[0m\u001b[1m\u001b[34mINFO: Installing SortingAlgorithms v0.1.1\n",
      "\u001b[0m\u001b[1m\u001b[34mINFO: Installing SpecialFunctions v0.1.1\n",
      "\u001b[0m\u001b[1m\u001b[34mINFO: Installing StatsBase v0.14.1\n",
      "\u001b[0m\u001b[1m\u001b[34mINFO: Installing WebSockets v0.2.1\n",
      "\u001b[0m\u001b[1m\u001b[34mINFO: Building HttpParser\n",
      "\u001b[0m\u001b[1m\u001b[34mINFO: Attempting to Create directory /home/awd/.julia/v0.5/HttpParser/deps/downloads\n",
      "\u001b[0m\u001b[1m\u001b[34mINFO: Attempting to Create directory /home/awd/.julia/v0.5/HttpParser/deps/downloads\n",
      "\u001b[0m\u001b[1m\u001b[34mINFO: Directory /home/awd/.julia/v0.5/HttpParser/deps/downloads already created\n",
      "\u001b[0m\u001b[1m\u001b[34mINFO: Downloading file https://github.com/nodejs/http-parser/archive/v2.7.1.zip\n",
      "\u001b[0m  % Total    % Received % Xferd  Average Speed   Time    Time     Time  Current\n",
      "                                 Dload  Upload   Total   Spent    Left  Speed\n",
      "100   123    0   123    0     0    194      0 --:--:-- --:--:-- --:--:--   194\n",
      "  0 55365    0     0    0     0      0      0 --:--:--  0:00:01 --:--:--     0"
     ]
    },
    {
     "name": "stdout",
     "output_type": "stream",
     "text": [
      "Archive:  /home/awd/.julia/v0.5/HttpParser/deps/downloads/v2.7.1.zip\n",
      "feae95a3a69f111bc1897b9048d9acbc290992f9\n",
      "   creating: /home/awd/.julia/v0.5/HttpParser/deps/src/http-parser-2.7.1/\n",
      "  inflating: /home/awd/.julia/v0.5/HttpParser/deps/src/http-parser-2.7.1/.gitignore  \n",
      "  inflating: /home/awd/.julia/v0.5/HttpParser/deps/src/http-parser-2.7.1/.mailmap  \n",
      "  inflating: /home/awd/.julia/v0.5/HttpParser/deps/src/http-parser-2.7.1/.travis.yml  \n",
      "  inflating: /home/awd/.julia/v0.5/HttpParser/deps/src/http-parser-2.7.1/AUTHORS  \n",
      "  inflating: /home/awd/.julia/v0.5/HttpParser/deps/src/http-parser-2.7.1/LICENSE-MIT  \n",
      "  inflating: /home/awd/.julia/v0.5/HttpParser/deps/src/http-parser-2.7.1/Makefile  \n",
      "  inflating: /home/awd/.julia/v0.5/HttpParser/deps/src/http-parser-2.7.1/README.md  \n",
      "  inflating: /home/awd/.julia/v0.5/HttpParser/deps/src/http-parser-2.7.1/bench.c  \n",
      "   creating: /home/awd/.julia/v0.5/HttpParser/deps/src/http-parser-2.7.1/contrib/\n",
      "  inflating: /home/awd/.julia/v0.5/HttpParser/deps/src/http-parser-2.7.1/contrib/parsertrace.c  \n",
      "  inflating: /home/awd/.julia/v0.5/HttpParser/deps/src/http-parser-2.7.1/contrib/url_parser.c  \n",
      "  inflating: /home/awd/.julia/v0.5/HttpParser/deps/src/http-parser-2.7.1/http_parser.c  \n",
      "  inflating: /home/awd/.julia/v0.5/HttpParser/deps/src/http-parser-2.7.1/http_parser.gyp  \n",
      "  inflating: /home/awd/.julia/v0.5/HttpParser/deps/src/http-parser-2.7.1/http_parser.h  \n",
      "  inflating: /home/awd/.julia/v0.5/HttpParser/deps/src/http-parser-2.7.1/test.c  \n",
      "make: Entering directory '/home/awd/.julia/v0.5/HttpParser/deps/src/http-parser-2.7.1'\n",
      "cc  -I. -DHTTP_PARSER_STRICT=0  -Wall -Wextra -Werror -O3  -fPIC -c http_parser.c -o libhttp_parser.o\n"
     ]
    },
    {
     "name": "stderr",
     "output_type": "stream",
     "text": [
      "\r",
      "100 55365  100 55365    0     0  34796      0  0:00:01  0:00:01 --:--:--  273k\n",
      "\u001b[1m\u001b[34mINFO: Done downloading file https://github.com/nodejs/http-parser/archive/v2.7.1.zip\n",
      "\u001b[0m\u001b[1m\u001b[34mINFO: Attempting to Create directory /home/awd/.julia/v0.5/HttpParser/deps\n",
      "\u001b[0m\u001b[1m\u001b[34mINFO: Directory /home/awd/.julia/v0.5/HttpParser/deps already created\n",
      "\u001b[0m\u001b[1m\u001b[34mINFO: Attempting to Create directory /home/awd/.julia/v0.5/HttpParser/deps/usr/lib\n",
      "\u001b[0m\u001b[1m\u001b[34mINFO: Changing Directory to /home/awd/.julia/v0.5/HttpParser/deps/src/http-parser-2.7.1\n",
      "\u001b[0m\u001b[1m\u001b[34mINFO: Changing Directory to /home/awd/.julia/v0.5/HttpParser/deps/src/http-parser-2.7.1\n",
      "\u001b[0m\u001b[1m\u001b[34mINFO: Changing Directory to /home/awd/.julia/v0.5/HttpParser/deps/src\n",
      "\u001b[0m\u001b[1m\u001b[34mINFO: Attempting to Create directory /home/awd/.julia/v0.5/HttpParser/deps/usr/lib\n",
      "\u001b[0m\u001b[1m\u001b[34mINFO: Directory /home/awd/.julia/v0.5/HttpParser/deps/usr/lib already created\n",
      "\u001b[0m\u001b[1m\u001b[34mINFO: Changing Directory to /home/awd/.julia/v0.5/HttpParser/deps/src\n",
      "\u001b[0m"
     ]
    },
    {
     "name": "stdout",
     "output_type": "stream",
     "text": [
      "cc  -shared -Wl,-soname=libhttp_parser.so -o libhttp_parser.so libhttp_parser.o\n",
      "make: Leaving directory '/home/awd/.julia/v0.5/HttpParser/deps/src/http-parser-2.7.1'\n"
     ]
    },
    {
     "name": "stderr",
     "output_type": "stream",
     "text": [
      "\u001b[1m\u001b[34mINFO: Changing Directory to /home/awd/.julia/v0.5/HttpParser/deps/src\n",
      "\u001b[0m\u001b[1m\u001b[34mINFO: Building MbedTLS\n",
      "\u001b[0m"
     ]
    },
    {
     "name": "stdout",
     "output_type": "stream",
     "text": [
      "Using system libraries...\n"
     ]
    },
    {
     "name": "stderr",
     "output_type": "stream",
     "text": [
      "\u001b[1m\u001b[34mINFO: Building PlotlyJS\n",
      "\u001b[0m  % Total    % Received % Xferd  Average Speed   Time    Time     Time  Current\n",
      "                                 Dload  Upload   Total   Spent    Left  Speed\n",
      "100  741k    0  741k    0     0   427k      0 --:--:--  0:00:01 --:--:--  427k\n",
      "  % Total    % Received % Xferd  Average Speed   Time    Time     Time  Current\n",
      "                                 Dload  Upload   Total   Spent    Left  Speed\n",
      "100 2121k  100 2121k    0     0  3818k      0 --:--:-- --:--:-- --:--:-- 3821k\n",
      "\u001b[1m\u001b[34mINFO: Package database updated\n",
      "\u001b[0m\u001b[1m\u001b[34mINFO: Cloning cache of Interact from https://github.com/JuliaGizmos/Interact.jl.git\n",
      "\u001b[0m\u001b[1m\u001b[34mINFO: Cloning cache of Reactive from https://github.com/JuliaGizmos/Reactive.jl.git\n",
      "\u001b[0m\u001b[1m\u001b[34mINFO: Installing Interact v0.4.3\n",
      "\u001b[0m\u001b[1m\u001b[34mINFO: Installing Reactive v0.4.1\n",
      "\u001b[0m\u001b[1m\u001b[34mINFO: Building Interact\n",
      "\u001b[0m\u001b[1m\u001b[34mINFO: Enabling widgetsnbextension\n",
      "\u001b[0mEnabling notebook extension jupyter-js-widgets/extension...\n",
      "      - Validating: \u001b[32mOK\u001b[0m\n",
      "\u001b[1m\u001b[34mINFO: ipywidgets version found: 6.0.0\n",
      "\u001b[0m\u001b[1m\u001b[34mINFO: A compatible version of ipywidgets was found. All good.\n",
      "\u001b[0m\u001b[1m\u001b[34mINFO: Package database updated\n",
      "\u001b[0m\u001b[1m\u001b[34mINFO: Cloning SeaMass from https://github.com/biospi/SeaMass.jl\n",
      "\u001b[0m\u001b[1m\u001b[34mINFO: Computing changes...\n",
      "\u001b[0m\u001b[1m\u001b[34mINFO: Cloning cache of Blosc from https://github.com/stevengj/Blosc.jl.git\n",
      "\u001b[0m\u001b[1m\u001b[34mINFO: Cloning cache of HDF5 from https://github.com/JuliaIO/HDF5.jl.git\n",
      "\u001b[0m\u001b[1m\u001b[34mINFO: Cloning cache of LibExpat from https://github.com/JuliaIO/LibExpat.jl.git\n",
      "\u001b[0m\u001b[1m\u001b[34mINFO: Cloning cache of PyCall from https://github.com/JuliaPy/PyCall.jl.git\n",
      "\u001b[0m\u001b[1m\u001b[34mINFO: Installing Blosc v0.2.0\n",
      "\u001b[0m\u001b[1m\u001b[34mINFO: Installing HDF5 v0.8.0\n",
      "\u001b[0m\u001b[1m\u001b[34mINFO: Installing LibExpat v0.2.5\n",
      "\u001b[0m\u001b[1m\u001b[34mINFO: Installing PyCall v1.12.0\n",
      "\u001b[0m\u001b[1m\u001b[34mINFO: Building Blosc\n",
      "\u001b[0m  % Total    % Received % Xferd  Average Speed   Time    Time     Time  Current\n",
      "                                 Dload  Upload   Total   Spent    Left  Speed\n",
      "100   122    0   122    0     0    146      0 --:--:-- --:--:-- --:--:--   145\n",
      "100  607k  100  607k    0     0   318k      0  0:00:01  0:00:01 --:--:-- 2431k\n"
     ]
    },
    {
     "name": "stdout",
     "output_type": "stream",
     "text": [
      "Compiling libblosc...\n",
      "gcc -I. -DBLOSC_SHARED_LIBRARY -DSHUFFLE_AVX2_ENABLED -DSHUFFLE_SSE2_ENABLED -fPIC -O3 -pthread -std=gnu99 -DHAVE_LZ4 -I../internal-complibs/lz4-1.7.2 -c -o bitshuffle-generic.o bitshuffle-generic.c\n",
      "gcc -I. -DBLOSC_SHARED_LIBRARY -DSHUFFLE_AVX2_ENABLED -DSHUFFLE_SSE2_ENABLED -fPIC -O3 -pthread -std=gnu99 -DHAVE_LZ4 -I../internal-complibs/lz4-1.7.2 -c -o shuffle-generic.o shuffle-generic.c\n",
      "gcc -I. -DBLOSC_SHARED_LIBRARY -DSHUFFLE_AVX2_ENABLED -DSHUFFLE_SSE2_ENABLED -fPIC -O3 -pthread -std=gnu99 -DHAVE_LZ4 -I../internal-complibs/lz4-1.7.2 -c -o shuffle.o shuffle.c\n",
      "gcc -I. -DBLOSC_SHARED_LIBRARY -DSHUFFLE_AVX2_ENABLED -DSHUFFLE_SSE2_ENABLED -fPIC -O3 -pthread -std=gnu99 -DHAVE_LZ4 -I../internal-complibs/lz4-1.7.2 -c -o blosclz.o blosclz.c\n",
      "gcc -I. -DBLOSC_SHARED_LIBRARY -DSHUFFLE_AVX2_ENABLED -DSHUFFLE_SSE2_ENABLED -fPIC -O3 -pthread -std=gnu99 -DHAVE_LZ4 -I../internal-complibs/lz4-1.7.2 -c -o blosc.o blosc.c\n",
      "gcc -I. -DBLOSC_SHARED_LIBRARY -DSHUFFLE_AVX2_ENABLED -DSHUFFLE_SSE2_ENABLED -fPIC -O3 -pthread -std=gnu99 -DHAVE_LZ4 -I../internal-complibs/lz4-1.7.2 -c -o ../internal-complibs/lz4-1.7.2/lz4.o ../internal-complibs/lz4-1.7.2/lz4.c\n",
      "gcc -I. -DBLOSC_SHARED_LIBRARY -DSHUFFLE_AVX2_ENABLED -DSHUFFLE_SSE2_ENABLED -fPIC -O3 -pthread -std=gnu99 -DHAVE_LZ4 -I../internal-complibs/lz4-1.7.2 -c -o ../internal-complibs/lz4-1.7.2/lz4hc.o ../internal-complibs/lz4-1.7.2/lz4hc.c\n",
      "echo \"building with AVX2\"\n",
      "building with AVX2\n",
      "gcc -I. -DBLOSC_SHARED_LIBRARY -DSHUFFLE_AVX2_ENABLED -DSHUFFLE_SSE2_ENABLED -fPIC -O3 -pthread -std=gnu99 -DHAVE_LZ4 -I../internal-complibs/lz4-1.7.2 -mavx2 -c -o bitshuffle-avx2.o bitshuffle-avx2.c\n",
      "gcc -I. -DBLOSC_SHARED_LIBRARY -DSHUFFLE_AVX2_ENABLED -DSHUFFLE_SSE2_ENABLED -fPIC -O3 -pthread -std=gnu99 -DHAVE_LZ4 -I../internal-complibs/lz4-1.7.2 -mavx2 -c -o shuffle-avx2.o shuffle-avx2.c\n",
      "echo \"building without AVX2\"\n",
      "building without AVX2\n",
      "gcc -I. -DBLOSC_SHARED_LIBRARY -DSHUFFLE_AVX2_ENABLED -DSHUFFLE_SSE2_ENABLED -fPIC -O3 -pthread -std=gnu99 -DHAVE_LZ4 -I../internal-complibs/lz4-1.7.2 -msse2 -c -o bitshuffle-sse2.o bitshuffle-sse2.c\n",
      "gcc -I. -DBLOSC_SHARED_LIBRARY -DSHUFFLE_AVX2_ENABLED -DSHUFFLE_SSE2_ENABLED -fPIC -O3 -pthread -std=gnu99 -DHAVE_LZ4 -I../internal-complibs/lz4-1.7.2 -msse2 -c -o shuffle-sse2.o shuffle-sse2.c\n",
      "gcc -fPIC -O3 -pthread -std=gnu99 -DHAVE_LZ4 -I../internal-complibs/lz4-1.7.2 -shared bitshuffle-generic.o shuffle-generic.o shuffle.o blosclz.o blosc.o ../internal-complibs/lz4-1.7.2/lz4.o ../internal-complibs/lz4-1.7.2/lz4hc.o bitshuffle-avx2.o shuffle-avx2.o bitshuffle-sse2.o shuffle-sse2.o -o ../../libblosc.so\n"
     ]
    },
    {
     "name": "stderr",
     "output_type": "stream",
     "text": [
      "\u001b[1m\u001b[34mINFO: Building HDF5\n",
      "\u001b[0m\u001b[1m\u001b[34mINFO: Building Conda\n",
      "\u001b[0m\u001b[1m\u001b[34mINFO: Building PyCall\n",
      "\u001b[0m\u001b[1m\u001b[34mINFO: Using the Python distribution in the Conda package by default.\n",
      "To use a different Python version, set ENV[\"PYTHON\"]=\"pythoncommand\" and re-run Pkg.build(\"PyCall\").\n",
      "\u001b[0m"
     ]
    },
    {
     "name": "stdout",
     "output_type": "stream",
     "text": [
      "Fetching package metadata .........\n",
      "Solving package specifications: .\n",
      "\n",
      "Package plan for installation in environment /home/awd/.julia/v0.5/Conda/deps/usr:\n",
      "\n",
      "The following NEW packages will be INSTALLED:\n",
      "\n",
      "    mkl:   2017.0.1-0   \n",
      "    numpy: 1.12.1-py27_0\n",
      "\n",
      "mkl-2017.0.1-0 100% |###############################| Time: 0:00:04  27.28 MB/s2 MB/s\n",
      "numpy-1.12.1-p 100% |###############################| Time: 0:00:00  27.14 MB/s                            | Time: 0:00:00  27.18 MB/s87 MB/s#######     | Time: 0:00:00  27.05 MB/sme: 0:00:00  27.20 MB/s\n"
     ]
    },
    {
     "name": "stderr",
     "output_type": "stream",
     "text": [
      "\u001b[1m\u001b[34mINFO: PyCall is using /home/awd/.julia/v0.5/Conda/deps/usr/bin/python (Python 2.7.13) at /home/awd/.julia/v0.5/Conda/deps/usr/bin/python, libpython = /home/awd/.julia/v0.5/Conda/deps/usr/lib/libpython2.7\n",
      "\u001b[0m\u001b[1m\u001b[34mINFO: /home/awd/.julia/v0.5/PyCall/deps/deps.jl has been updated\n",
      "\u001b[0m\u001b[1m\u001b[34mINFO: /home/awd/.julia/v0.5/PyCall/deps/PYTHON has been updated\n",
      "\u001b[0m"
     ]
    }
   ],
   "source": [
    "Pkg.update()\n",
    "pkgInstalled = Pkg.installed()\n",
    "\n",
    "if !haskey(pkgInstalled, \"Plots\")\n",
    "    Pkg.add(\"Plots\")\n",
    "end\n",
    "\n",
    "if !haskey(pkgInstalled, \"PlotsJS\")\n",
    "    Pkg.add(\"PlotlyJS\")\n",
    "end\n",
    "\n",
    "if !haskey(pkgInstalled, \"Interact\")\n",
    "    Pkg.add(\"Interact\")\n",
    "    #Pkg.checkout(\"Interact\")\n",
    "end\n",
    "\n",
    "if !haskey(pkgInstalled, \"SeaMass\")\n",
    "    ENV[\"PYTHON\"]=\"\"\n",
    "    Pkg.clone(\"https://github.com/biospi/SeaMass.jl\")\n",
    "end"
   ]
  },
  {
   "cell_type": "code",
   "execution_count": null,
   "metadata": {
    "collapsed": true
   },
   "outputs": [],
   "source": []
  }
 ],
 "metadata": {
  "kernelspec": {
   "display_name": "Julia 0.5.1",
   "language": "julia",
   "name": "julia-0.5"
  },
  "language_info": {
   "file_extension": ".jl",
   "mimetype": "application/julia",
   "name": "julia",
   "version": "0.5.1"
  }
 },
 "nbformat": 4,
 "nbformat_minor": 2
}
