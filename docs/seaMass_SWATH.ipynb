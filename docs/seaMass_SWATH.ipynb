{
 "cells": [
  {
   "cell_type": "markdown",
   "metadata": {},
   "source": [
    "# seaMass SWATH demo\n",
    "This notebook illustrates how to load seaMass input/output on SWATH data. Firstly, we need to import the relevant modules..."
   ]
  },
  {
   "cell_type": "code",
   "execution_count": null,
   "metadata": {},
   "outputs": [],
   "source": [
    "using Plots; plotly(size=(980,350))\n",
    "using Interact\n",
    "\n",
    "try\n",
    "    ENV[\"PYTHON\"]=\"\"\n",
    "    Pkg.checkout(\"SeaMass\")\n",
    "end\n",
    "import SeaMass"
   ]
  },
  {
   "cell_type": "code",
   "execution_count": null,
   "metadata": {},
   "outputs": [],
   "source": [
    "reload(\"SeaMass\")"
   ]
  },
  {
   "cell_type": "markdown",
   "metadata": {},
   "source": [
    "### Compare mzMLb input (sampled) to 'mzmlb2smb' smb input (binned)"
   ]
  },
  {
   "cell_type": "code",
   "execution_count": null,
   "metadata": {},
   "outputs": [],
   "source": [
    "mzmlInputSpectra = SeaMass.MzmlSpectrum[]\n",
    "maxIntensity = 0.0\n",
    "maxIntensitySpectrum = 1\n",
    "for i = 1:100\n",
    "    push!(mzmlInputSpectra, SeaMass.MzmlSpectrum(\n",
    "            \"../data/P02U_Swath_1__mzWindow_602_605__scanTime_2300_3500.mzMLb\",\n",
    "            (i - 1) * 51 + 1))    \n",
    "    maxIntensity_ = maximum(mzmlInputSpectra[i].intensities)   \n",
    "    if maxIntensity_ > maxIntensity\n",
    "        maxIntensity = maxIntensity_\n",
    "        maxIntensitySpectrum = i\n",
    "    end\n",
    "end\n",
    "\n",
    "smbInputSpectra = SeaMass.SmbSpectrum[]\n",
    "for i = 1:100\n",
    "    push!(smbInputSpectra, SeaMass.SmbSpectrum(\n",
    "        \"../data/out/P02U_Swath_1__mzWindow_602_605__scanTime_2300_3500\" * \n",
    "            \"/1.mzmlb2smb/P02U_Swath_1__mzWindow_602_605__scanTime_2300_3500.p.smb\", i))\n",
    "end\n",
    "\n",
    "@manipulate for i = slider(1:100, label=\"Spectrum\", value=maxIntensitySpectrum, continuous_update=true)\n",
    "    plot(mzmlInputSpectra[i].mzs, mzmlInputSpectra[i].intensities, label=\"mzML input\", m=2)\n",
    "    plot!(smbInputSpectra[i].locations, vcat(smbInputSpectra[i].counts / smbInputSpectra[i].exposure, 0.0),\n",
    "        line=:steppost, label=\"SMB input\")\n",
    "    plot!(xlabel = \"m/z (Th)\", ylabel = \"intensity\",\n",
    "        xlims=(602, 605),\n",
    "        ylims=(-0.05 * maxIntensity, 1.05 * maxIntensity))\n",
    "end"
   ]
  },
  {
   "cell_type": "markdown",
   "metadata": {},
   "source": [
    "### Compare smb input to 'seamass' ⇨ 'seamass-restore' smb output"
   ]
  },
  {
   "cell_type": "code",
   "execution_count": null,
   "metadata": {
    "collapsed": true
   },
   "outputs": [],
   "source": [
    "smbOutputSpectra = SeaMass.SmbSpectrum[]\n",
    "smbBinWidths = Array[]\n",
    "maxCountsDensity = 0.0\n",
    "maxCountsDensitySpectrum = 1\n",
    "for i = 1:100\n",
    "    push!(smbOutputSpectra, SeaMass.SmbSpectrum(\n",
    "        \"../data/out/P02U_Swath_1__mzWindow_602_605__scanTime_2300_3500\" *\n",
    "            \"/3.seamass-restore/P02U_Swath_1__mzWindow_602_605__scanTime_2300_3500.p.smb\", i))\n",
    "    push!(smbBinWidths, smbOutputSpectra[i].locations[2:end] - smbOutputSpectra[i].locations[1:end-1])\n",
    "    \n",
    "    maxCountsDensity_ = maximum(smbInputSpectra[i].counts ./ smbBinWidths[i])   \n",
    "    if maxCountsDensity_ > maxCountsDensity\n",
    "        maxCountsDensity = maxCountsDensity_\n",
    "        maxCountsDensitySpectrum = i\n",
    "    end\n",
    "end\n",
    "\n",
    "@manipulate for i = slider(1:100, label=\"Spectrum\", value=maxIntensitySpectrum, continuous_update=true)\n",
    "    plot(smbInputSpectra[i].locations, vcat(smbInputSpectra[i].counts ./ smbBinWidths[i], 0.0),\n",
    "        line=:steppost, label=\"SMB input\")\n",
    "    plot!(smbOutputSpectra[i].locations, vcat(smbOutputSpectra[i].counts ./ smbBinWidths[i], 0.0),\n",
    "        line=:steppost, label=\"SMB output\")\n",
    "    plot!(xlabel = \"m/z (Th)\", ylabel = \"ion count density\",\n",
    "        xlims=(602, 605),\n",
    "        ylims=(-0.05 * maxCountsDensity, 1.05 * maxCountsDensity))\n",
    "end"
   ]
  },
  {
   "cell_type": "markdown",
   "metadata": {},
   "source": [
    "### Compare smb output to 'seamass-restore' mzMLb output"
   ]
  },
  {
   "cell_type": "code",
   "execution_count": null,
   "metadata": {
    "collapsed": true
   },
   "outputs": [],
   "source": [
    "mzmlOutputSpectra = SeaMass.MzmlSpectrum[]\n",
    "maxIntensityDensity = 0.0\n",
    "maxIntensityDensitySpectrum = 1\n",
    "for i = 1:100\n",
    "    push!(mzmlOutputSpectra, SeaMass.MzmlSpectrum(\n",
    "            \"../data/out/P02U_Swath_1__mzWindow_602_605__scanTime_2300_3500\" * \n",
    "                \"/4.smb2mzmlb/P02U_Swath_1__mzWindow_602_605__scanTime_2300_3500.mzMLb\", i))\n",
    "    \n",
    "    maxIntensityDensity_ = maximum(mzmlOutputSpectra[i].intensities)   \n",
    "    if maxIntensityDensity_ > maxIntensityDensity\n",
    "        maxIntensityDensity = maxIntensityDensity_\n",
    "        maxIntensityDensitySpectrum = i\n",
    "    end\n",
    "end\n",
    "\n",
    "@manipulate for i = slider(1:100, label=\"Spectrum\", value=maxIntensitySpectrum, continuous_update=true)\n",
    "    plot(smbOutputSpectra[i].locations,\n",
    "        vcat(smbOutputSpectra[i].counts ./ (smbOutputSpectra[i].exposure * smbBinWidths[i]), 0.0),\n",
    "        line=:steppost, label=\"SMB output\")\n",
    "    plot!(mzmlOutputSpectra[i].mzs, mzmlOutputSpectra[i].intensities, label=\"mzML output\", m=2)\n",
    "    plot!(xlabel = \"m/z (Th)\", ylabel = \"intensity density\",\n",
    "        xlims=(602, 605),\n",
    "        ylims=(-0.05 * maxIntensityDensity, 1.05 * maxIntensityDensity))\n",
    "end"
   ]
  },
  {
   "cell_type": "markdown",
   "metadata": {},
   "source": [
    "### Compare smb input to 'seamass' ⇨ 'seamass-restore --centroid' smb output"
   ]
  },
  {
   "cell_type": "code",
   "execution_count": null,
   "metadata": {
    "collapsed": true
   },
   "outputs": [],
   "source": [
    "smbCentroidedOutputSpectra = SeaMass.SmbSpectrum[]\n",
    "for i = 1:100\n",
    "    push!(smbCentroidedOutputSpectra, SeaMass.SmbSpectrum(\n",
    "        \"../data/out/P02U_Swath_1__mzWindow_602_605__scanTime_2300_3500\" *\n",
    "            \"/5.seamass-restore_--centroid/P02U_Swath_1__mzWindow_602_605__scanTime_2300_3500.p.smb\", i))\n",
    "end\n",
    "\n",
    "@manipulate for i = slider(1:100, label=\"Spectrum\", value=maxIntensitySpectrum, continuous_update=true)\n",
    "    plot(smbInputSpectra[i].locations, vcat(smbInputSpectra[i].counts / smbInputSpectra[i].exposure, 0.0),\n",
    "        line=:steppost, label=\"SMB input\")\n",
    "    if (size(smbCentroidedOutputSpectra[i].locations)[1] > 0)\n",
    "        sticks!(smbCentroidedOutputSpectra[i].locations,\n",
    "            smbCentroidedOutputSpectra[i].counts / smbInputSpectra[i].exposure,\n",
    "            label=\"SMB centroided output\", m=2)\n",
    "    end\n",
    "    plot!(xlabel = \"m/z (Th)\", ylabel = \"ion count density\",\n",
    "        xlims=(602, 605),\n",
    "        ylims=(-0.05 * maxIntensity, 1.05 * maxIntensity))\n",
    "end"
   ]
  },
  {
   "cell_type": "markdown",
   "metadata": {},
   "source": [
    "### Compare mzML input to 'seamass-restore --centroid' mzMLb output"
   ]
  },
  {
   "cell_type": "code",
   "execution_count": null,
   "metadata": {
    "collapsed": true
   },
   "outputs": [],
   "source": [
    "mzmlCentroidedOutputSpectra = SeaMass.MzmlSpectrum[]\n",
    "for i = 1:100\n",
    "    push!(mzmlCentroidedOutputSpectra, SeaMass.MzmlSpectrum(\n",
    "            \"../data/out/P02U_Swath_1__mzWindow_602_605__scanTime_2300_3500\" * \n",
    "                \"/6.smb2mzmlb/P02U_Swath_1__mzWindow_602_605__scanTime_2300_3500.mzMLb\", i))\n",
    "end\n",
    "\n",
    "@manipulate for i = slider(1:100, label=\"Spectrum\", value=maxIntensitySpectrum, continuous_update=true)\n",
    "    plot(mzmlInputSpectra[i].mzs, mzmlInputSpectra[i].intensities, label=\"mzML input\", m=2)\n",
    "    if (size(mzmlCentroidedOutputSpectra[i].mzs)[1] > 0)\n",
    "        sticks!(mzmlCentroidedOutputSpectra[i].mzs, mzmlCentroidedOutputSpectra[i].intensities,\n",
    "            label=\"mzML centroided output\", m=2)\n",
    "    end\n",
    "    plot!(xlabel = \"m/z (Th)\", ylabel = \"intensity\",\n",
    "        xlims=(602, 605),\n",
    "        ylims=(-0.05 * maxIntensity, 1.05 * maxIntensity))\n",
    "end"
   ]
  },
  {
   "cell_type": "code",
   "execution_count": null,
   "metadata": {
    "collapsed": true
   },
   "outputs": [],
   "source": []
  }
 ],
 "metadata": {
  "anaconda-cloud": {},
  "kernelspec": {
   "display_name": "Julia 0.5.2",
   "language": "julia",
   "name": "julia-0.5"
  },
  "language_info": {
   "file_extension": ".jl",
   "mimetype": "application/julia",
   "name": "julia",
   "version": "0.5.2"
  }
 },
 "nbformat": 4,
 "nbformat_minor": 1
}
